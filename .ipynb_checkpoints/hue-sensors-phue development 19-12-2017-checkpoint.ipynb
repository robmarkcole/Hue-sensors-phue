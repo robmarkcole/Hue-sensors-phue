{
 "cells": [
  {
   "cell_type": "markdown",
   "metadata": {},
   "source": [
    "https://github.com/studioimaginaire/phue \n",
    "\n",
    "Phue is a package for interacting with the Hue hub. Investigate how it works with sensors as will want to re-write hue-sensors-hass to use phue"
   ]
  },
  {
   "cell_type": "code",
   "execution_count": 1,
   "metadata": {},
   "outputs": [],
   "source": [
    "import json\n",
    "import pprint\n",
    "import hue_sensors_phue as hs\n",
    "\n",
    "def print_json(json_data):\n",
    "    pprint.PrettyPrinter().pprint(json_data)"
   ]
  },
  {
   "cell_type": "code",
   "execution_count": 2,
   "metadata": {},
   "outputs": [],
   "source": [
    "bridge_ip = '192.168.0.3'"
   ]
  },
  {
   "cell_type": "code",
   "execution_count": 3,
   "metadata": {},
   "outputs": [],
   "source": [
    "response = hs.get_response_from_ip(bridge_ip)"
   ]
  },
  {
   "cell_type": "code",
   "execution_count": 4,
   "metadata": {},
   "outputs": [
    {
     "data": {
      "text/plain": [
       "{'Bedroom sensor': <phue.Sensor object \"Bedroom sensor\" at 0x110c46eb8>,\n",
       " 'Daylight': <phue.Sensor object \"Daylight\" at 0x110c1dac8>,\n",
       " 'Dimmer Switch 2 SceneCycle': <phue.Sensor object \"Dimmer Switch 2 SceneCycle\" at 0x110cd0208>,\n",
       " 'Dimmer Switch 20 SceneCycle': <phue.Sensor object \"Dimmer Switch 20 SceneCycle\" at 0x110ce15c0>,\n",
       " 'Dimmer Switch 22 SceneCycle': <phue.Sensor object \"Dimmer Switch 22 SceneCycle\" at 0x110ce1630>,\n",
       " 'Hall Sensor': <phue.Sensor object \"Hall Sensor\" at 0x110cd02e8>,\n",
       " 'Hall remote': <phue.Sensor object \"Hall remote\" at 0x110ce15f8>,\n",
       " 'HomeAway': <phue.Sensor object \"HomeAway\" at 0x110ce1470>,\n",
       " 'Hue Tap': <phue.Sensor object \"Hue Tap\" at 0x110ce1668>,\n",
       " 'Hue ambient light sensor 1': <phue.Sensor object \"Hue ambient light sensor 1\" at 0x110cd0320>,\n",
       " 'Hue ambient light sensor 2': <phue.Sensor object \"Hue ambient light sensor 2\" at 0x110ce13c8>,\n",
       " 'Hue ambient light sensor 3': <phue.Sensor object \"Hue ambient light sensor 3\" at 0x110ce1518>,\n",
       " 'Hue temperature sensor 1': <phue.Sensor object \"Hue temperature sensor 1\" at 0x110cd02b0>,\n",
       " 'Hue temperature sensor 2': <phue.Sensor object \"Hue temperature sensor 2\" at 0x110cd0390>,\n",
       " 'Hue temperature sensor 3': <phue.Sensor object \"Hue temperature sensor 3\" at 0x110ce14a8>,\n",
       " 'Living room remote': <phue.Sensor object \"Living room remote\" at 0x110ce1588>,\n",
       " 'Living room sensor': <phue.Sensor object \"Living room sensor\" at 0x110ce14e0>,\n",
       " 'MotionSensor 15.Companion': <phue.Sensor object \"MotionSensor 15.Companion\" at 0x110ce1550>,\n",
       " 'MotionSensor 5.Companion': <phue.Sensor object \"MotionSensor 5.Companion\" at 0x110cd0278>,\n",
       " 'MotionSensor 9.Companion': <phue.Sensor object \"MotionSensor 9.Companion\" at 0x110ce1400>,\n",
       " 'Remote bedroom': <phue.Sensor object \"Remote bedroom\" at 0x110c4f2e8>,\n",
       " 'Robins iPhone': <phue.Sensor object \"Robins iPhone\" at 0x110ce1438>}"
      ]
     },
     "execution_count": 4,
     "metadata": {},
     "output_type": "execute_result"
    }
   ],
   "source": [
    "response"
   ]
  },
  {
   "cell_type": "markdown",
   "metadata": {},
   "source": [
    "# Get a dictionary with the sensor id as the key"
   ]
  },
  {
   "cell_type": "code",
   "execution_count": 5,
   "metadata": {},
   "outputs": [
    {
     "data": {
      "text/plain": [
       "['Daylight',\n",
       " 'Remote bedroom',\n",
       " 'Dimmer Switch 2 SceneCycle',\n",
       " 'Hue temperature sensor 1',\n",
       " 'Hall Sensor',\n",
       " 'Hue ambient light sensor 1',\n",
       " 'MotionSensor 5.Companion',\n",
       " 'Hue temperature sensor 2',\n",
       " 'Bedroom sensor',\n",
       " 'Hue ambient light sensor 2',\n",
       " 'MotionSensor 9.Companion',\n",
       " 'Robins iPhone',\n",
       " 'HomeAway',\n",
       " 'Hue temperature sensor 3',\n",
       " 'Living room sensor',\n",
       " 'Hue ambient light sensor 3',\n",
       " 'MotionSensor 15.Companion',\n",
       " 'Living room remote',\n",
       " 'Dimmer Switch 20 SceneCycle',\n",
       " 'Hall remote',\n",
       " 'Dimmer Switch 22 SceneCycle',\n",
       " 'Hue Tap']"
      ]
     },
     "execution_count": 5,
     "metadata": {},
     "output_type": "execute_result"
    }
   ],
   "source": [
    "list(response.keys())"
   ]
  },
  {
   "cell_type": "code",
   "execution_count": 6,
   "metadata": {},
   "outputs": [],
   "source": [
    "hall_remote = response['Hall remote']"
   ]
  },
  {
   "cell_type": "code",
   "execution_count": 7,
   "metadata": {},
   "outputs": [
    {
     "data": {
      "text/plain": [
       "'Hall remote'"
      ]
     },
     "execution_count": 7,
     "metadata": {},
     "output_type": "execute_result"
    }
   ],
   "source": [
    "hall_remote.name"
   ]
  },
  {
   "cell_type": "code",
   "execution_count": 8,
   "metadata": {},
   "outputs": [
    {
     "data": {
      "text/plain": [
       "{'buttonevent': 1002, 'lastupdated': '2017-12-17T00:59:53'}"
      ]
     },
     "execution_count": 8,
     "metadata": {},
     "output_type": "execute_result"
    }
   ],
   "source": [
    "hall_remote.state"
   ]
  },
  {
   "cell_type": "code",
   "execution_count": 9,
   "metadata": {},
   "outputs": [
    {
     "data": {
      "text/plain": [
       "'RWL021'"
      ]
     },
     "execution_count": 9,
     "metadata": {},
     "output_type": "execute_result"
    }
   ],
   "source": [
    "hall_remote.modelid"
   ]
  },
  {
   "cell_type": "code",
   "execution_count": 10,
   "metadata": {},
   "outputs": [
    {
     "data": {
      "text/plain": [
       "'00:17:88:01:02:c0:e1:9c-02-fc00'"
      ]
     },
     "execution_count": 10,
     "metadata": {},
     "output_type": "execute_result"
    }
   ],
   "source": [
    "hall_remote.uniqueid"
   ]
  },
  {
   "cell_type": "markdown",
   "metadata": {},
   "source": [
    "Have rewritten hue-sensors parsing functions to use phue response data"
   ]
  },
  {
   "cell_type": "code",
   "execution_count": 11,
   "metadata": {},
   "outputs": [
    {
     "data": {
      "text/plain": [
       "{'Geofence': {'model': 'GEO', 'name': 'Robins iPhone', 'state': 'on'},\n",
       " 'RWL_1e-02': {'battery': 100,\n",
       "  'last_updated': ['2017-12-18', '20:58:12'],\n",
       "  'model': 'RWL',\n",
       "  'name': 'Living room remote',\n",
       "  'state': '4_click'},\n",
       " 'RWL_9c-02': {'battery': 100,\n",
       "  'last_updated': ['2017-12-17', '00:59:53'],\n",
       "  'model': 'RWL',\n",
       "  'name': 'Hall remote',\n",
       "  'state': '1_click'},\n",
       " 'RWL_dc-02': {'battery': 100,\n",
       "  'last_updated': ['2017-12-18', '22:03:43'],\n",
       "  'model': 'RWL',\n",
       "  'name': 'Remote bedroom',\n",
       "  'state': '4_click'},\n",
       " 'SML_28-02': {'battery': 100,\n",
       "  'dark': True,\n",
       "  'daylight': False,\n",
       "  'last_updated': ['2017-12-19', '07:05:10'],\n",
       "  'light_level': 0,\n",
       "  'lux': 1.0,\n",
       "  'model': 'SML',\n",
       "  'name': 'Hall motion Sensor',\n",
       "  'state': 'off',\n",
       "  'temperature': 16.17},\n",
       " 'SML_9c-02': {'battery': 100,\n",
       "  'dark': True,\n",
       "  'daylight': False,\n",
       "  'last_updated': ['2017-12-19', '07:35:03'],\n",
       "  'light_level': 0,\n",
       "  'lux': 1.0,\n",
       "  'model': 'SML',\n",
       "  'name': 'Living room motion sensor',\n",
       "  'state': 'off',\n",
       "  'temperature': 19.41},\n",
       " 'SML_ce-02': {'battery': 100,\n",
       "  'dark': True,\n",
       "  'daylight': False,\n",
       "  'last_updated': ['2017-12-19', '05:45:35'],\n",
       "  'light_level': 0,\n",
       "  'lux': 1.0,\n",
       "  'model': 'SML',\n",
       "  'name': 'Bedroom motion sensor',\n",
       "  'state': 'off',\n",
       "  'temperature': 18.47},\n",
       " 'ZGP_08-f2': {'last_updated': ['2017-12-18', '20:58:06'],\n",
       "  'model': 'ZGP',\n",
       "  'name': 'Hue Tap',\n",
       "  'state': '2_click'}}"
      ]
     },
     "execution_count": 11,
     "metadata": {},
     "output_type": "execute_result"
    }
   ],
   "source": [
    "hs.parse_hue_api_response(response)"
   ]
  },
  {
   "cell_type": "code",
   "execution_count": null,
   "metadata": {},
   "outputs": [],
   "source": []
  }
 ],
 "metadata": {
  "kernelspec": {
   "display_name": "Python 3",
   "language": "python",
   "name": "python3"
  },
  "language_info": {
   "codemirror_mode": {
    "name": "ipython",
    "version": 3
   },
   "file_extension": ".py",
   "mimetype": "text/x-python",
   "name": "python",
   "nbconvert_exporter": "python",
   "pygments_lexer": "ipython3",
   "version": "3.6.3"
  }
 },
 "nbformat": 4,
 "nbformat_minor": 2
}
